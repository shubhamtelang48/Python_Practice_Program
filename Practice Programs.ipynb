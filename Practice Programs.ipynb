{
 "cells": [
  {
   "cell_type": "markdown",
   "id": "9ea63979",
   "metadata": {},
   "source": [
    "# Faulty Calculator"
   ]
  },
  {
   "cell_type": "raw",
   "id": "3fccc094",
   "metadata": {},
   "source": [
    "Design a calculator which will correctly solve all the parameter except  56+9=7,45*3=555,56/6=4."
   ]
  },
  {
   "cell_type": "code",
   "execution_count": null,
   "id": "65a8fe51",
   "metadata": {},
   "outputs": [
    {
     "name": "stdout",
     "output_type": "stream",
     "text": [
      "Addition= +\n",
      "subtraction = -\n",
      "multiplication = *\n",
      "division = /\n"
     ]
    }
   ],
   "source": [
    "print('Addition= +')\n",
    "print('subtraction = -')\n",
    "print('multiplication = *')\n",
    "print('division = /')\n",
    "operator=input('choose your operator:')\n",
    "\n",
    "num1=int(input('enter num1:'))\n",
    "num2=int(input('enter num2:'))\n",
    "if operator == \"+\":\n",
    "    if num1 == 56 and num2 == 9:\n",
    "        print(7)\n",
    "    else:\n",
    "            print('num1 + num2 =:',num1+num2)\n",
    "elif operator == \"*\":\n",
    "            if num1 == 45 and num2 == 3:\n",
    "                print(555)\n",
    "            else :\n",
    "                print('num1 * num2=',num1*num2)\n",
    "elif operator ==\"/\":\n",
    "            if num1 == 56 and num2 == 6:\n",
    "                print(4)\n",
    "\n",
    "            else :\n",
    "                print('(num1/num2)=',(num1/num2))\n",
    "elif operator == \"-\":\n",
    "                print('num1 - num2=',num1-num2)\n",
    "else:\n",
    "    print('please check the code')\n",
    "            "
   ]
  },
  {
   "cell_type": "markdown",
   "id": "52574b67",
   "metadata": {},
   "source": [
    "# Faulty calculator\n",
    "             Design a calculator which will correctly solve all the parameter except  56+9=7,45*3=555,56/6=4."
   ]
  },
  {
   "cell_type": "code",
   "execution_count": null,
   "id": "ef51c41c",
   "metadata": {},
   "outputs": [],
   "source": [
    "var1=int(input('enter the first number\\n'))\n",
    "var2=int(input('enter the second number or exponent in case of power calculation\\n'))\n",
    "operator=input(\"enter the type of operator,Available operator: +,-,*,/,%,**\\n\")\n",
    "if(max(var1,var2) == 45 and min(var1,var2) == 3 and operator ==\"*\"):\n",
    "    print(\"Result:\",555)\n",
    "elif(max(var1,var2) == 56 and min(var1,var2) == 9 and operator ==\"+\"):\n",
    "        print(\"Result:\",77)\n",
    "elif(max(var1,var2) == 56 and min(var1,var2) == 6 and operator ==\"/\"):\n",
    "        print(\"Result:\",4)\n",
    "else:\n",
    "        if(operator == \"+\"):\n",
    "            print(\"result:\",var1+var2)\n",
    "        elif(operator == \"-\"):\n",
    "            print(\"result:\",var1-var2)\n",
    "        elif(operator == \"*\"):\n",
    "            print(\"result:\",var1*var2)\n",
    "        elif(operator == \"/\"):\n",
    "            print(\"result:\",var1/var2)\n",
    "        elif(operator == \"%\"):\n",
    "            print(\"result:\",var1%var2)\n",
    "        elif(operator == \"**\"):\n",
    "            print(\"result:\",var1**var2)\n",
    "        else:\n",
    "            print(\"please try again\")\n",
    "            \n",
    "            \n",
    "            \n",
    "        \n",
    "    \n",
    "    \n",
    "    \n",
    "    \n",
    "    \n",
    "          \n",
    "          \n"
   ]
  },
  {
   "cell_type": "markdown",
   "id": "dbad3008",
   "metadata": {},
   "source": [
    "# calculator"
   ]
  },
  {
   "cell_type": "code",
   "execution_count": null,
   "id": "6b4454c2",
   "metadata": {},
   "outputs": [],
   "source": [
    "var1=int(input('enter the first number\\n'))\n",
    "var2=int(input('enter the second number or exponent in case of power calculation\\n'))\n",
    "operator=input(\"enter the type of operator,Available operator: +,-,*,/,%,**\\n\")\n",
    "\n",
    "if(operator == \"+\"):\n",
    "            print(\"result:\",var1+var2)\n",
    "elif(operator == \"-\"):\n",
    "            print(\"result:\",var1-var2)\n",
    "elif(operator == \"*\"):\n",
    "            print(\"result:\",var1*var2)\n",
    "elif(operator == \"/\"):\n",
    "            print(\"result:\",var1/var2)\n",
    "elif(operator == \"%\"):\n",
    "            print(\"result:\",var1%var2)\n",
    "elif(operator == \"**\"):\n",
    "            print(\"result:\",var1**var2)\n",
    "else:\n",
    "            print(\"please try again\")\n",
    "            \n",
    "            \n",
    "            \n",
    "        \n",
    "    "
   ]
  },
  {
   "cell_type": "code",
   "execution_count": null,
   "id": "2531805c",
   "metadata": {},
   "outputs": [],
   "source": []
  },
  {
   "cell_type": "markdown",
   "id": "9522378d",
   "metadata": {},
   "source": [
    "# Gussing Game"
   ]
  },
  {
   "cell_type": "code",
   "execution_count": null,
   "id": "c1183189",
   "metadata": {},
   "outputs": [],
   "source": [
    "import random"
   ]
  },
  {
   "cell_type": "code",
   "execution_count": null,
   "id": "aee1398c",
   "metadata": {},
   "outputs": [],
   "source": [
    "jackpot=random.randint(1,100)\n",
    "\n",
    "guess=int(input('enter your guess'))\n",
    "\n",
    "while jackpot != guess:\n",
    "    if jackpot<guess:\n",
    "        print('please enter lower number')\n",
    "    else:\n",
    "        print('please enter higher number')\n",
    "        \n",
    "    guess=int(input('enter your guess again'))\n",
    "    \n",
    "print('your guess is correct')"
   ]
  },
  {
   "cell_type": "markdown",
   "id": "314eedfc",
   "metadata": {},
   "source": [
    "# Pangram"
   ]
  },
  {
   "cell_type": "code",
   "execution_count": 4,
   "id": "5b1f34c1",
   "metadata": {},
   "outputs": [
    {
     "name": "stdout",
     "output_type": "stream",
     "text": [
      "asdfghjklmnbvcxz\n",
      "{'b', 'm', 'h', 'f', 's', 'a', 'x', 'l', 'j', 'v', 'z', 'n', 'k', 'c', 'g', 'd'}\n",
      "eiopqrtuwy"
     ]
    }
   ],
   "source": [
    "s=set(list(input().lower()))\n",
    "print(s)\n",
    "\n",
    "l=[]\n",
    "\n",
    "for i in range(97,123):\n",
    "    l.append(i)\n",
    "\n",
    "for i,ele in enumerate(s):\n",
    "    if ord(ele) in l:\n",
    "      l.remove(ord(ele))\n",
    "        \n",
    "if len(l)>0:\n",
    "    for i in l:\n",
    "        print(chr(i),end=\"\")\n",
    "else:\n",
    "    print(\"Pangram\")\n"
   ]
  },
  {
   "cell_type": "markdown",
   "id": "ce896d32",
   "metadata": {},
   "source": [
    "# Palindrome"
   ]
  },
  {
   "cell_type": "code",
   "execution_count": 22,
   "id": "94c89615",
   "metadata": {},
   "outputs": [
    {
     "name": "stdout",
     "output_type": "stream",
     "text": [
      "enter a number43265\n",
      "Not a Palindrome number\n"
     ]
    }
   ],
   "source": [
    "#12321\n",
    "def palindrome(num):\n",
    "    temp=num\n",
    "    rev=0\n",
    "    \n",
    "    while temp>0:\n",
    "        a=temp%10\n",
    "        rev=rev*10 + a\n",
    "        temp=temp//10\n",
    "        \n",
    "    if(rev==num):\n",
    "        print(\" It is spalindrome number\")\n",
    "    else:\n",
    "        print(\"Not a Palindrome number\")\n",
    "        \n",
    "if __name__==\"__main__\":\n",
    "    \n",
    "    num=int(input(\"enter a number\"))\n",
    "    palindrome(num)\n",
    "        "
   ]
  },
  {
   "cell_type": "code",
   "execution_count": 17,
   "id": "db1bc279",
   "metadata": {},
   "outputs": [
    {
     "name": "stdout",
     "output_type": "stream",
     "text": [
      "Enter a number:12321\n",
      "The number is palindrome!\n"
     ]
    }
   ],
   "source": [
    "num=int(input(\"Enter a number:\"))\n",
    "temp=num\n",
    "rev=0\n",
    "while(num>0):\n",
    "    dig=num%10\n",
    "    rev=rev*10+dig\n",
    "    num=num//10\n",
    "if(temp==rev):\n",
    "    print(\"The number is palindrome!\")\n",
    "else:\n",
    "    print(\"Not a palindrome!\")"
   ]
  },
  {
   "cell_type": "markdown",
   "id": "06b76eca",
   "metadata": {},
   "source": [
    "# Fibonacci Sequence"
   ]
  },
  {
   "cell_type": "code",
   "execution_count": 23,
   "id": "1a67ea59",
   "metadata": {},
   "outputs": [
    {
     "name": "stdout",
     "output_type": "stream",
     "text": [
      "34\n"
     ]
    }
   ],
   "source": [
    "# Function for nth fibonacci number\n",
    "def fibonacci(n):\n",
    "\ta = 0\n",
    "\tb = 1\n",
    "\t\n",
    "\t# Check is n is less\n",
    "\t# than 0\n",
    "\tif n < 0:\n",
    "\t\tprint(\"Incorrect input\")\n",
    "\t\t\n",
    "\t# Check is n is equal\n",
    "\t# to 0\n",
    "\telif n == 0:\n",
    "\t\treturn 0\n",
    "\t\t\n",
    "\t# Check if n is equal to 1\n",
    "\telif n == 1:\n",
    "\t\treturn b\n",
    "\telse:\n",
    "\t\tfor i in range(1, n):\n",
    "\t\t\tc = a + b\n",
    "\t\t\ta = b\n",
    "\t\t\tb = c\n",
    "\t\treturn b\n",
    "\n",
    "# Driver Program\n",
    "print(fibonacci(9))\n"
   ]
  },
  {
   "cell_type": "code",
   "execution_count": 32,
   "id": "1799a968",
   "metadata": {},
   "outputs": [
    {
     "name": "stdout",
     "output_type": "stream",
     "text": [
      "Enter the number for fibonacci sequence7\n",
      "Fibonacci Sequence\n",
      "1\n",
      "2\n",
      "3\n",
      "5\n",
      "8\n",
      "13\n"
     ]
    }
   ],
   "source": [
    "def fibonacci(n):\n",
    "    a=0\n",
    "    b=1\n",
    "    \n",
    "    if n < 0:\n",
    "        print('Invalide number')\n",
    "    elif n==0:\n",
    "        return 0\n",
    "    elif n==1:\n",
    "        return 1\n",
    "    else:\n",
    "        print(\"Fibonacci Sequence\")\n",
    "        for i in range(1,n):\n",
    "            c=a+b\n",
    "            print(c)\n",
    "            a=b\n",
    "            b=c\n",
    "        return b\n",
    "    \n",
    "if __name__==\"__main__\":\n",
    "    \n",
    "    num=int(input(\"Enter the number for fibonacci sequence\"))\n",
    "    fibonacci(num)\n",
    "    "
   ]
  },
  {
   "cell_type": "code",
   "execution_count": null,
   "id": "70722eea",
   "metadata": {},
   "outputs": [],
   "source": []
  }
 ],
 "metadata": {
  "kernelspec": {
   "display_name": "Python 3 (ipykernel)",
   "language": "python",
   "name": "python3"
  },
  "language_info": {
   "codemirror_mode": {
    "name": "ipython",
    "version": 3
   },
   "file_extension": ".py",
   "mimetype": "text/x-python",
   "name": "python",
   "nbconvert_exporter": "python",
   "pygments_lexer": "ipython3",
   "version": "3.9.12"
  }
 },
 "nbformat": 4,
 "nbformat_minor": 5
}
